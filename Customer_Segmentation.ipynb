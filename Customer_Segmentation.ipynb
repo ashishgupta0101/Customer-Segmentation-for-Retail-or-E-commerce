# customer_segmentation.py

import pandas as pd
import matplotlib.pyplot as plt
import seaborn as sns
from sklearn.preprocessing import StandardScaler
from sklearn.cluster import KMeans, AgglomerativeClustering
from sklearn.metrics import silhouette_score, davies_bouldin_score
import scipy.cluster.hierarchy as sch

# 1. Load and prepare dataset
df = pd.read_csv('Mall_Customers.csv')
X = df[['Annual Income (k$)', 'Spending Score (1-100)']]

# 2. Scale the data
scaler = StandardScaler()
X_scaled = scaler.fit_transform(X)

# 3. Elbow Method for KMeans
wcss = []
for i in range(1, 11):
    kmeans = KMeans(n_clusters=i, random_state=42)
    kmeans.fit(X_scaled)
    wcss.append(kmeans.inertia_)

plt.figure(figsize=(6, 4))
plt.plot(range(1, 11), wcss, marker='o')
plt.title('Elbow Method')
plt.xlabel('Number of clusters')
plt.ylabel('WCSS')
plt.grid(True)
plt.show()

# 4. Fit KMeans with optimal k
optimal_k = 5
kmeans = KMeans(n_clusters=optimal_k, random_state=42)
labels_kmeans = kmeans.fit_predict(X_scaled)

# 5. Hierarchical Clustering and Dendrogram
plt.figure(figsize=(8, 4))
dendrogram = sch.dendrogram(sch.linkage(X_scaled, method='ward'))
plt.title('Hierarchical Dendrogram')
plt.xlabel('Customers')
plt.ylabel('Euclidean Distances')
plt.show()

# 6. Agglomerative Clustering
hc = AgglomerativeClustering(n_clusters=5)
labels_hc = hc.fit_predict(X_scaled)

# 7. Evaluation
sil_kmeans = silhouette_score(X_scaled, labels_kmeans)
db_kmeans = davies_bouldin_score(X_scaled, labels_kmeans)

sil_hc = silhouette_score(X_scaled, labels_hc)
db_hc = davies_bouldin_score(X_scaled, labels_hc)

print("K-Means Clustering:")
print(f"Silhouette Score: {sil_kmeans:.3f}")
print(f"Davies–Bouldin Index: {db_kmeans:.3f}")

print("\nHierarchical Clustering:")
print(f"Silhouette Score: {sil_hc:.3f}")
print(f"Davies–Bouldin Index: {db_hc:.3f}")

# 8. Optional: Visualize clusters (KMeans example)
plt.figure(figsize=(6, 4))
sns.scatterplot(x=X_scaled[:, 0], y=X_scaled[:, 1], hue=labels_kmeans, palette='Set1')
plt.title('K-Means Clustering Results')
plt.xlabel('Annual Income (scaled)')
plt.ylabel('Spending Score (scaled)')
plt.show()
